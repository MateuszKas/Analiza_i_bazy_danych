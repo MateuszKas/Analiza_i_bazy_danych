{
 "cells": [
  {
   "cell_type": "code",
   "execution_count": 2,
   "metadata": {},
   "outputs": [],
   "source": [
    "import pandas as pd\n",
    "import numpy as np\n",
    "import matplotlib.pyplot as plt\n",
    "import seaborn as sns\n",
    "import os as os\n"
   ]
  },
  {
   "cell_type": "code",
   "execution_count": 3,
   "metadata": {},
   "outputs": [],
   "source": [
    "data = pd.read_csv(\"pew.csv\",sep='`',encoding='utf-8')\n",
    "data=pd.DataFrame(data)\n"
   ]
  },
  {
   "cell_type": "code",
   "execution_count": 25,
   "metadata": {},
   "outputs": [
    {
     "name": "stdout",
     "output_type": "stream",
     "text": [
      "                    income                                    family\n",
      "31659     $150,000 or more   Adventist in the Evangelical Tradition \n",
      "32719     $150,000 or more   Adventist in the Evangelical Tradition \n",
      "67215     $150,000 or more   Adventist in the Evangelical Tradition \n",
      "68275     $150,000 or more   Adventist in the Evangelical Tradition \n",
      "102771    $150,000 or more   Adventist in the Evangelical Tradition \n",
      "...                    ...                                       ...\n",
      "4703492  Less than $10,000      Unitarians and other Liberal Faiths \n",
      "4708482  Less than $10,000      Unitarians and other Liberal Faiths \n",
      "4714505  Less than $10,000      Unitarians and other Liberal Faiths \n",
      "4721545  Less than $10,000      Unitarians and other Liberal Faiths \n",
      "4725886  Less than $10,000      Unitarians and other Liberal Faiths \n",
      "\n",
      "[4728948 rows x 2 columns]\n"
     ]
    }
   ],
   "source": [
    "ProcessedData = pd.melt(data,\n",
    "                       [\"income\",\"family\"]) \n",
    "\n",
    "ProcessedData = ProcessedData.sort_values(by=[\"income\",\"family\"])\n",
    "ProcessedData=ProcessedData.iloc[:,:2]\n",
    "print(ProcessedData)"
   ]
  },
  {
   "cell_type": "code",
   "execution_count": 20,
   "metadata": {},
   "outputs": [
    {
     "name": "stdout",
     "output_type": "stream",
     "text": [
      "<class 'pandas.core.frame.DataFrame'>\n",
      "Int64Index: 4764504 entries, 1402715 to 3402542\n",
      "Data columns (total 3 columns):\n",
      "income    object\n",
      "family    object\n",
      "value     object\n",
      "dtypes: object(3)\n",
      "memory usage: 145.4+ MB\n"
     ]
    }
   ],
   "source": [
    "ProcessedData.info()"
   ]
  },
  {
   "cell_type": "code",
   "execution_count": null,
   "metadata": {},
   "outputs": [],
   "source": [
    "output_file = os.path.join('C:/Users/jooan/Desktop/studia/semestr 7/bazy danych/dem_score_lab5/Analysis Data','dem_score_processed.csv')\n",
    "processedData.to_csv(output_file, index=False)"
   ]
  }
 ],
 "metadata": {
  "kernelspec": {
   "display_name": "Python 3",
   "language": "python",
   "name": "python3"
  },
  "language_info": {
   "codemirror_mode": {
    "name": "ipython",
    "version": 3
   },
   "file_extension": ".py",
   "mimetype": "text/x-python",
   "name": "python",
   "nbconvert_exporter": "python",
   "pygments_lexer": "ipython3",
   "version": "3.7.4"
  }
 },
 "nbformat": 4,
 "nbformat_minor": 2
}
